{
 "cells": [
  {
   "cell_type": "code",
   "execution_count": 1,
   "metadata": {},
   "outputs": [],
   "source": [
    "from ChemstationAPI.ChemstationAPI import ChemstationAPI\n",
    "from SIA_API.devices.syringe_controller import SyringeController\n",
    "from SIA_API.devices.valve_selector import ValveSelector\n",
    "from SIA_API.methods.prepared_methods import PreparedSIAMethods\n",
    "\n",
    "from tqdm.notebook import tqdm\n",
    "import pandas as pd\n",
    "import time"
   ]
  },
  {
   "cell_type": "code",
   "execution_count": 2,
   "metadata": {},
   "outputs": [
    {
     "name": "stdout",
     "output_type": "stream",
     "text": [
      "Syringe size: 1000 µL\n",
      "Syringe resolution: 0.33 µL\n",
      "Minimum flow rate: 50.0 µL/min\n",
      "Maximum flow rate: 60000.0 µL/min\n"
     ]
    },
    {
     "ename": "ConnectionError",
     "evalue": "Failed to establish communication with ChemStation.\nPlease ensure:\n1. ChemStation is running\n2. Communication macro is loaded: macro C:\\Users\\hpst\\python\\SIA-CE\\ChemstationAPI\\core\\ChemPyConnect.mac; Python_Run\n3. Communication files path is accessible",
     "output_type": "error",
     "traceback": [
      "\u001b[1;31m---------------------------------------------------------------------------\u001b[0m",
      "\u001b[1;31mConnectionError\u001b[0m                           Traceback (most recent call last)",
      "\u001b[1;32m~\\AppData\\Local\\Temp\\ipykernel_7976\\2174436111.py\u001b[0m in \u001b[0;36m<module>\u001b[1;34m\u001b[0m\n\u001b[0;32m      1\u001b[0m \u001b[0mSyringe\u001b[0m \u001b[1;33m=\u001b[0m \u001b[0mSyringeController\u001b[0m\u001b[1;33m(\u001b[0m\u001b[1;34m\"COM5\"\u001b[0m\u001b[1;33m,\u001b[0m \u001b[1;36m1000\u001b[0m\u001b[1;33m)\u001b[0m\u001b[1;33m\u001b[0m\u001b[1;33m\u001b[0m\u001b[0m\n\u001b[0;32m      2\u001b[0m \u001b[0mValve\u001b[0m \u001b[1;33m=\u001b[0m \u001b[0mValveSelector\u001b[0m\u001b[1;33m(\u001b[0m\u001b[1;34m\"COM5\"\u001b[0m\u001b[1;33m,\u001b[0m \u001b[1;36m8\u001b[0m\u001b[1;33m)\u001b[0m\u001b[1;33m\u001b[0m\u001b[1;33m\u001b[0m\u001b[0m\n\u001b[1;32m----> 3\u001b[1;33m \u001b[0mChemstation\u001b[0m \u001b[1;33m=\u001b[0m \u001b[0mChemstationAPI\u001b[0m\u001b[1;33m(\u001b[0m\u001b[1;33m)\u001b[0m\u001b[1;33m\u001b[0m\u001b[1;33m\u001b[0m\u001b[0m\n\u001b[0m\u001b[0;32m      4\u001b[0m \u001b[0mSIA_methods\u001b[0m \u001b[1;33m=\u001b[0m \u001b[0mPreparedSIAMethods\u001b[0m\u001b[1;33m(\u001b[0m\u001b[0mchemstation_controller\u001b[0m\u001b[1;33m=\u001b[0m\u001b[0mChemstation\u001b[0m\u001b[1;33m,\u001b[0m \u001b[0msyringe_device\u001b[0m\u001b[1;33m=\u001b[0m\u001b[0mSyringe\u001b[0m\u001b[1;33m,\u001b[0m \u001b[0mvalve_device\u001b[0m\u001b[1;33m=\u001b[0m\u001b[0mValve\u001b[0m\u001b[1;33m)\u001b[0m\u001b[1;33m\u001b[0m\u001b[1;33m\u001b[0m\u001b[0m\n\u001b[0;32m      5\u001b[0m \u001b[1;33m\u001b[0m\u001b[0m\n",
      "\u001b[1;32mc:\\Users\\hpst\\python\\SIA-CE\\ChemstationAPI\\ChemstationAPI.py\u001b[0m in \u001b[0;36m__init__\u001b[1;34m(self, config)\u001b[0m\n\u001b[0;32m     92\u001b[0m             \u001b[0mmacro\u001b[0m \u001b[1;34m\"path\\\\to\\\\ChemPyConnect.mac\"\u001b[0m\u001b[1;33m;\u001b[0m \u001b[0mPython_Run\u001b[0m\u001b[1;33m\u001b[0m\u001b[1;33m\u001b[0m\u001b[0m\n\u001b[0;32m     93\u001b[0m         \"\"\"\n\u001b[1;32m---> 94\u001b[1;33m         \u001b[0msuper\u001b[0m\u001b[1;33m(\u001b[0m\u001b[1;33m)\u001b[0m\u001b[1;33m.\u001b[0m\u001b[0m__init__\u001b[0m\u001b[1;33m(\u001b[0m\u001b[0mconfig\u001b[0m\u001b[1;33m)\u001b[0m\u001b[1;33m\u001b[0m\u001b[1;33m\u001b[0m\u001b[0m\n\u001b[0m\u001b[0;32m     95\u001b[0m \u001b[1;33m\u001b[0m\u001b[0m\n\u001b[0;32m     96\u001b[0m         \u001b[1;31m# Initialize all functional modules with shared communicator\u001b[0m\u001b[1;33m\u001b[0m\u001b[1;33m\u001b[0m\u001b[1;33m\u001b[0m\u001b[0m\n",
      "\u001b[1;32mc:\\Users\\hpst\\python\\SIA-CE\\ChemstationAPI\\core\\chemstation_communication.py\u001b[0m in \u001b[0;36m__init__\u001b[1;34m(self, config)\u001b[0m\n\u001b[0;32m    124\u001b[0m             \u001b[1;32mif\u001b[0m \u001b[1;32mnot\u001b[0m \u001b[0mself\u001b[0m\u001b[1;33m.\u001b[0m\u001b[0m_test_connection\u001b[0m\u001b[1;33m(\u001b[0m\u001b[1;33m)\u001b[0m\u001b[1;33m:\u001b[0m\u001b[1;33m\u001b[0m\u001b[1;33m\u001b[0m\u001b[0m\n\u001b[0;32m    125\u001b[0m                 raise ConnectionError(\n\u001b[1;32m--> 126\u001b[1;33m                     \u001b[1;34m\"Failed to establish communication with ChemStation.\\n\"\u001b[0m\u001b[1;33m\u001b[0m\u001b[1;33m\u001b[0m\u001b[0m\n\u001b[0m\u001b[0;32m    127\u001b[0m                     \u001b[1;34m\"Please ensure:\\n\"\u001b[0m\u001b[1;33m\u001b[0m\u001b[1;33m\u001b[0m\u001b[0m\n\u001b[0;32m    128\u001b[0m                     \u001b[1;34m\"1. ChemStation is running\\n\"\u001b[0m\u001b[1;33m\u001b[0m\u001b[1;33m\u001b[0m\u001b[0m\n",
      "\u001b[1;31mConnectionError\u001b[0m: Failed to establish communication with ChemStation.\nPlease ensure:\n1. ChemStation is running\n2. Communication macro is loaded: macro C:\\Users\\hpst\\python\\SIA-CE\\ChemstationAPI\\core\\ChemPyConnect.mac; Python_Run\n3. Communication files path is accessible"
     ]
    }
   ],
   "source": [
    "Syringe = SyringeController(\"COM5\", 1000)\n",
    "Valve = ValveSelector(\"COM5\", 8)\n",
    "Chemstation = ChemstationAPI()\n",
    "SIA_methods = PreparedSIAMethods(chemstation_controller=Chemstation, syringe_device=Syringe, valve_device=Valve)\n",
    "\n",
    "MeOH_port = 5\n",
    "DI_port = 3"
   ]
  },
  {
   "cell_type": "code",
   "execution_count": 7,
   "metadata": {},
   "outputs": [
    {
     "ename": "ChemstationError",
     "evalue": "ChemStation command failed:  ERROR: The command  macro c:\\Users\\hpst\\python\\controllers\\macros\\register_reader.mac  failed to execute. Error message:  Could not open file: C:\\USERS\\HPST\\PYTHON\\CONTROLLERS\\MACROS\\REGISTER_READER.MAC",
     "output_type": "error",
     "traceback": [
      "\u001b[1;31m---------------------------------------------------------------------------\u001b[0m",
      "\u001b[1;31mChemstationError\u001b[0m                          Traceback (most recent call last)",
      "\u001b[1;32m~\\AppData\\Local\\Temp\\ipykernel_8796\\181920657.py\u001b[0m in \u001b[0;36m<module>\u001b[1;34m\u001b[0m\n\u001b[1;32m----> 1\u001b[1;33m \u001b[0mChemstation\u001b[0m\u001b[1;33m.\u001b[0m\u001b[0msystem\u001b[0m\u001b[1;33m.\u001b[0m\u001b[0madd_register_reader\u001b[0m\u001b[1;33m(\u001b[0m\u001b[1;33m)\u001b[0m\u001b[1;33m\u001b[0m\u001b[1;33m\u001b[0m\u001b[0m\n\u001b[0m",
      "\u001b[1;32mc:\\Users\\hpst\\python\\ChemstationAPI\\controllers\\system_module.py\u001b[0m in \u001b[0;36madd_register_reader\u001b[1;34m(self, register_reader_macro)\u001b[0m\n\u001b[0;32m     80\u001b[0m         \"\"\"\n\u001b[0;32m     81\u001b[0m         \u001b[0mpath\u001b[0m \u001b[1;33m=\u001b[0m \u001b[0mos\u001b[0m\u001b[1;33m.\u001b[0m\u001b[0mpath\u001b[0m\u001b[1;33m.\u001b[0m\u001b[0mabspath\u001b[0m\u001b[1;33m(\u001b[0m\u001b[0mregister_reader_macro\u001b[0m\u001b[1;33m)\u001b[0m\u001b[1;33m\u001b[0m\u001b[1;33m\u001b[0m\u001b[0m\n\u001b[1;32m---> 82\u001b[1;33m         \u001b[0mself\u001b[0m\u001b[1;33m.\u001b[0m\u001b[0mcomm\u001b[0m\u001b[1;33m.\u001b[0m\u001b[0msend\u001b[0m\u001b[1;33m(\u001b[0m\u001b[1;34mf\"macro {path}\"\u001b[0m\u001b[1;33m)\u001b[0m\u001b[1;33m\u001b[0m\u001b[1;33m\u001b[0m\u001b[0m\n\u001b[0m\u001b[0;32m     83\u001b[0m \u001b[1;33m\u001b[0m\u001b[0m\n\u001b[0;32m     84\u001b[0m     \u001b[1;32mdef\u001b[0m \u001b[0mabort_run\u001b[0m\u001b[1;33m(\u001b[0m\u001b[0mself\u001b[0m\u001b[1;33m)\u001b[0m \u001b[1;33m->\u001b[0m \u001b[1;32mNone\u001b[0m\u001b[1;33m:\u001b[0m\u001b[1;33m\u001b[0m\u001b[1;33m\u001b[0m\u001b[0m\n",
      "\u001b[1;32mc:\\Users\\hpst\\python\\ChemstationAPI\\ChemstationAPI.py\u001b[0m in \u001b[0;36msend\u001b[1;34m(self, command, timeout)\u001b[0m\n\u001b[0;32m     89\u001b[0m             \u001b[1;33m>>\u001b[0m\u001b[1;33m>\u001b[0m \u001b[0mprint\u001b[0m\u001b[1;33m(\u001b[0m\u001b[1;34mf\"Method path: {path}\"\u001b[0m\u001b[1;33m)\u001b[0m\u001b[1;33m\u001b[0m\u001b[1;33m\u001b[0m\u001b[0m\n\u001b[0;32m     90\u001b[0m         \"\"\"\n\u001b[1;32m---> 91\u001b[1;33m         \u001b[1;32mreturn\u001b[0m \u001b[0msuper\u001b[0m\u001b[1;33m(\u001b[0m\u001b[1;33m)\u001b[0m\u001b[1;33m.\u001b[0m\u001b[0msend\u001b[0m\u001b[1;33m(\u001b[0m\u001b[0mcommand\u001b[0m\u001b[1;33m,\u001b[0m \u001b[0mtimeout\u001b[0m\u001b[1;33m)\u001b[0m\u001b[1;33m\u001b[0m\u001b[1;33m\u001b[0m\u001b[0m\n\u001b[0m",
      "\u001b[1;32mc:\\Users\\hpst\\python\\ChemstationAPI\\core\\chemstation_communication.py\u001b[0m in \u001b[0;36msend\u001b[1;34m(self, command, timeout)\u001b[0m\n\u001b[0;32m    243\u001b[0m         \u001b[0mself\u001b[0m\u001b[1;33m.\u001b[0m\u001b[0m_write_command\u001b[0m\u001b[1;33m(\u001b[0m\u001b[0mcommand\u001b[0m\u001b[1;33m,\u001b[0m \u001b[0mcommand_number\u001b[0m\u001b[1;33m)\u001b[0m\u001b[1;33m\u001b[0m\u001b[1;33m\u001b[0m\u001b[0m\n\u001b[0;32m    244\u001b[0m \u001b[1;33m\u001b[0m\u001b[0m\n\u001b[1;32m--> 245\u001b[1;33m         \u001b[0mresponse_text\u001b[0m \u001b[1;33m=\u001b[0m \u001b[0mself\u001b[0m\u001b[1;33m.\u001b[0m\u001b[0m_read_response\u001b[0m\u001b[1;33m(\u001b[0m\u001b[0mcommand_number\u001b[0m\u001b[1;33m,\u001b[0m \u001b[0mtimeout\u001b[0m\u001b[1;33m)\u001b[0m\u001b[1;33m\u001b[0m\u001b[1;33m\u001b[0m\u001b[0m\n\u001b[0m\u001b[0;32m    246\u001b[0m         \u001b[1;32mif\u001b[0m \u001b[0mself\u001b[0m\u001b[1;33m.\u001b[0m\u001b[0mconfig\u001b[0m\u001b[1;33m.\u001b[0m\u001b[0mverbose\u001b[0m\u001b[1;33m:\u001b[0m\u001b[1;33m\u001b[0m\u001b[1;33m\u001b[0m\u001b[0m\n\u001b[0;32m    247\u001b[0m             \u001b[0mprint\u001b[0m\u001b[1;33m(\u001b[0m\u001b[1;34mf\"Received response {command_number}: {response_text}\"\u001b[0m\u001b[1;33m)\u001b[0m\u001b[1;33m\u001b[0m\u001b[1;33m\u001b[0m\u001b[0m\n",
      "\u001b[1;32mc:\\Users\\hpst\\python\\ChemstationAPI\\core\\chemstation_communication.py\u001b[0m in \u001b[0;36m_read_response\u001b[1;34m(self, expected_command_number, timeout)\u001b[0m\n\u001b[0;32m    175\u001b[0m                     \u001b[1;31m# Check for error response\u001b[0m\u001b[1;33m\u001b[0m\u001b[1;33m\u001b[0m\u001b[1;33m\u001b[0m\u001b[0m\n\u001b[0;32m    176\u001b[0m                     \u001b[1;32mif\u001b[0m \u001b[0mresponse\u001b[0m\u001b[1;33m.\u001b[0m\u001b[0mstartswith\u001b[0m\u001b[1;33m(\u001b[0m\u001b[1;34m\" ERROR:\"\u001b[0m\u001b[1;33m)\u001b[0m\u001b[1;33m:\u001b[0m\u001b[1;33m\u001b[0m\u001b[1;33m\u001b[0m\u001b[0m\n\u001b[1;32m--> 177\u001b[1;33m                         \u001b[1;32mraise\u001b[0m \u001b[0mChemstationError\u001b[0m\u001b[1;33m(\u001b[0m\u001b[1;34mf\"ChemStation command failed: {response}\"\u001b[0m\u001b[1;33m)\u001b[0m\u001b[1;33m\u001b[0m\u001b[1;33m\u001b[0m\u001b[0m\n\u001b[0m\u001b[0;32m    178\u001b[0m \u001b[1;33m\u001b[0m\u001b[0m\n\u001b[0;32m    179\u001b[0m                     \u001b[1;32mif\u001b[0m \u001b[0mresponse\u001b[0m \u001b[1;33m==\u001b[0m \u001b[1;34m\"None\"\u001b[0m\u001b[1;33m:\u001b[0m\u001b[1;33m\u001b[0m\u001b[1;33m\u001b[0m\u001b[0m\n",
      "\u001b[1;31mChemstationError\u001b[0m: ChemStation command failed:  ERROR: The command  macro c:\\Users\\hpst\\python\\controllers\\macros\\register_reader.mac  failed to execute. Error message:  Could not open file: C:\\USERS\\HPST\\PYTHON\\CONTROLLERS\\MACROS\\REGISTER_READER.MAC"
     ]
    }
   ],
   "source": [
    "Chemstation.system.add_register_reader()"
   ]
  },
  {
   "cell_type": "code",
   "execution_count": 7,
   "metadata": {},
   "outputs": [],
   "source": [
    "Valve.position(1)"
   ]
  },
  {
   "cell_type": "code",
   "execution_count": 4,
   "metadata": {},
   "outputs": [],
   "source": [
    "SIA_methods.system_initialization_and_cleaning()"
   ]
  },
  {
   "cell_type": "code",
   "execution_count": 6,
   "metadata": {},
   "outputs": [],
   "source": [
    "SIA_methods.prepare_batch_flow(3)\n",
    "\n",
    "vials = [40, 41]\n",
    "\n",
    "for vial in vials:\n",
    "    SIA_methods.batch_fill(vial, 100, 3, flush_needle=20)"
   ]
  },
  {
   "cell_type": "code",
   "execution_count": 7,
   "metadata": {},
   "outputs": [],
   "source": [
    "Valve.position(1)\n",
    "CavroX1.valve_in()\n",
    "CavroX1.aspirate_uL(200)\n",
    "\n",
    "CavroX1.valve_up()\n",
    "CavroX1.aspirate_uL(500)\n",
    "CavroX1.valve_out()\n",
    "CavroX1.dispense_uL()\n",
    "\n",
    "CavroX1.valve_in()\n",
    "CavroX1.aspirate_uL()\n",
    "CavroX1.valve_out()\n",
    "\n",
    "Valve.position(1)\n",
    "CavroX1.dispense_uL()\n",
    "\n",
    "Valve.position(2)\n",
    "CavroX1.aspirate_uL(25)\n",
    "CavroX1.valve_up()\n",
    "CavroX1.dispense_uL()\n",
    "CavroX1.valve_out()"
   ]
  },
  {
   "cell_type": "code",
   "execution_count": 4,
   "metadata": {},
   "outputs": [],
   "source": [
    "CavroX1.valve_in()\n",
    "Valve.position(1)\n",
    "CavroX1.aspirate_uL(50)\n",
    "CavroX1.valve_out()\n",
    "CavroX1.dispense_uL()\n",
    "\n",
    "Valve.position(2)\n",
    "CavroX1.aspirate_uL(25)\n",
    "CavroX1.valve_up()\n",
    "CavroX1.dispense_uL()\n",
    "CavroX1.valve_out()"
   ]
  },
  {
   "cell_type": "code",
   "execution_count": 3,
   "metadata": {},
   "outputs": [],
   "source": [
    "SIA_methods.prepare_batch_flow(3)"
   ]
  },
  {
   "cell_type": "code",
   "execution_count": null,
   "metadata": {},
   "outputs": [],
   "source": [
    "df = pd.read_excel(\"samples_info.xlsx\")\n",
    "\n",
    "batch_size = 3\n",
    "\n",
    "df_batches = [df.iloc[i:i + batch_size] for i in range(0, len(df), batch_size)]\n",
    "\n",
    "for batch in df_batches:\n",
    "    for _, sample in batch.iterrows():\n",
    "        SIA_methods.execute_batch_filling_operation(int(sample.Vial), sample.MeOH, 5)\n",
    "        print(f\"Vial {sample.Vial} is filled by MeOH\")\n",
    "    \n",
    "    for _, sample in batch.iterrows():\n",
    "        SIA_methods.execute_batch_filling_operation(int(sample.Vial), int(sample.DI), 3)\n",
    "        print(f\"Vial {sample.Vial} is filled by DI\")\n"
   ]
  },
  {
   "cell_type": "code",
   "execution_count": 9,
   "metadata": {},
   "outputs": [],
   "source": [
    "Chemstation.sequence.prepare_sequence_table(\"samples_info.xlsx\", sequence_name=\"SIA_CP_Test\",\n",
    "                                            method_column=\"Method\", sample_name_column=\"Name\",\n",
    "                                            vial_column=\"Vial\")"
   ]
  },
  {
   "cell_type": "code",
   "execution_count": 8,
   "metadata": {},
   "outputs": [],
   "source": [
    "Chemstation.ce.load_vial_to_position(50)\n",
    "\n",
    "Valve.position(2)\n",
    "CavroX1.aspirate_uL(25)\n",
    "Valve.position(3)\n",
    "CavroX1.aspirate_uL(330)\n",
    "Valve.position(4)\n",
    "CavroX1.dispense_uL(300)\n",
    "Valve.position(1)\n",
    "CavroX1.dispense_uL()\n",
    "\n",
    "Chemstation.ce.load_vial_to_position(45)\n",
    "Valve.position(2)\n",
    "CavroX1.aspirate_uL(500)\n",
    "Valve.position(4)\n",
    "CavroX1.dispense_uL()"
   ]
  },
  {
   "cell_type": "code",
   "execution_count": 8,
   "metadata": {},
   "outputs": [],
   "source": [
    "Chemstation.ce.unload_vial_from_position()\n",
    "\n",
    "Valve.position(2)\n",
    "CavroX1.aspirate_uL(15)\n",
    "Valve.position(4)\n",
    "CavroX1.dispense_uL()"
   ]
  },
  {
   "cell_type": "code",
   "execution_count": 4,
   "metadata": {},
   "outputs": [],
   "source": [
    "SIA_methods.homogenize_sample(40, 3500, 30, 20)"
   ]
  },
  {
   "cell_type": "code",
   "execution_count": null,
   "metadata": {},
   "outputs": [],
   "source": [
    "for sample in df.itertuples():\n",
    "\n",
    "    while Chemstation.system.RC_status() not in [\"Idle\", \"Run\"]: #zjištění jestli se může ovládat carousel\n",
    "        print(\"wait for carousel\")\n",
    "        time.sleep(2)\n",
    "\n",
    "    SIA_methods.execute_batch_filling_operation(int(sample.Vial), sample.MeOH, 5) #Naplnění vilky MeOH\n",
    "    print(\"add MeOH\")\n",
    "    \n",
    "    time.sleep(3) #čekání\n",
    "\n",
    "    SIA_methods.execute_batch_filling_operation(int(sample.Vial), sample.DI, 3) #naplnění vilky DI\n",
    "    print(\"add DI\")\n",
    "\n",
    "    if Chemstation.system.method_on():\n",
    "        while Chemstation.system.get_remaining_analysis_time() > 1.2: #počkání 5 minut před koncem\n",
    "            time.sleep(5)\n",
    "        SIA_methods.execute_sample_homogenization(sample.Vial, 2000, 20)\n",
    "        print(\"homogenization\")\n",
    "        while Chemstation.system.RC_status() == \"Run\": #zjištění jestli se může ovládat carousel\n",
    "            print(\"wait for end run\")\n",
    "            time.sleep(2)\n",
    "\n",
    "    else:\n",
    "        Chemstation.sequence.start() #spuštění sequence\n",
    "    time.sleep(10)"
   ]
  },
  {
   "cell_type": "code",
   "execution_count": null,
   "metadata": {},
   "outputs": [],
   "source": [
    "    def unload_vial_from_position(self, position: str = \"replenishment\") -> None:\n",
    "        \"\"\"Unload vial from the specified position in CE carousel.\n",
    "        \n",
    "        Args:\n",
    "            position: Position from which to unload the vial.\n",
    "            \n",
    "        \"\"\"\n",
    "        # Position to command mapping\n",
    "        position_commands = {\n",
    "            \"inlet\": \"INLT\",\n",
    "            \"outlet\": \"OUTL\",\n",
    "            \"replenishment\": \"LRPL\",\n",
    "        }\n",
    "        \n",
    "        command = position_commands[position]\n",
    "        self.comm.send(f'WriteModule \"{MODULE}\", \"{command}\"')\n",
    "        time.sleep(3)"
   ]
  },
  {
   "cell_type": "code",
   "execution_count": 45,
   "metadata": {},
   "outputs": [
    {
     "data": {
      "application/vnd.jupyter.widget-view+json": {
       "model_id": "f7ace176a3a848e89534554eed505b92",
       "version_major": 2,
       "version_minor": 0
      },
      "text/plain": [
       "  0%|          | 0/8 [00:00<?, ?it/s]"
      ]
     },
     "metadata": {},
     "output_type": "display_data"
    },
    {
     "name": "stdout",
     "output_type": "stream",
     "text": [
      "2025-07-03 12:56:46\t3_elution_time_mitra_A_internal_IBU\t1167.62\n",
      "\n",
      "2025-07-03 13:04:25\t4_elution_time_mitra_A_internal_IBU\t1627.23\n",
      "\n",
      "2025-07-03 13:12:05\t5_elution_time_mitra_A_internal_IBU\t2086.94\n",
      "\n",
      "2025-07-03 13:19:44\t6_elution_time_mitra_A_internal_IBU\t2545.59\n",
      "\n",
      "2025-07-03 13:27:22\t7_elution_time_mitra_A_internal_IBU\t3003.71\n",
      "\n",
      "2025-07-03 13:35:01\t8_elution_time_mitra_A_internal_IBU\t3463.09\n",
      "\n",
      "2025-07-03 13:42:40\t9_elution_time_mitra_A_internal_IBU\t3921.46\n",
      "\n",
      "2025-07-03 13:50:19\t10_elution_time_mitra_A_internal_IBU\t4380.36\n",
      "\n"
     ]
    }
   ],
   "source": [
    "import time\n",
    "from datetime import datetime\n",
    "\n",
    "def save_time_attempt(sample_name, time_attempt, filename):\n",
    "    \"\"\"Uloží čas pokusu do textového souboru\"\"\"\n",
    "    timestamp = datetime.now().strftime(\"%Y-%m-%d %H:%M:%S\")\n",
    "    with open(filename, 'a', encoding='utf-8') as f:\n",
    "        f.write(f\"{timestamp}\\t{sample_name}\\t{time_attempt:.2f}\\n\")\n",
    "    print(f\"{timestamp}\\t{sample_name}\\t{time_attempt:.2f}\\n\")\n",
    "\n",
    "# Konstanty\n",
    "VIAL = 40\n",
    "METHOD = \"NHL3_MD_B\"\n",
    "\n",
    "MEOH = 400\n",
    "MeOH_port = 5\n",
    "\n",
    "DI = 100\n",
    "DI_port = 3\n",
    "\n",
    "SLEEP_TIME = 600\n",
    "N_REPETITION = 8\n",
    "\n",
    "filename = \"test.txt\"\n",
    "\n",
    "Chemstation.validation.validate_method_name(METHOD)\n",
    "\n",
    "# SIA_methods.batch_fill(VIAL, MEOH, MeOH_port)\n",
    "\n",
    "# for _ in tqdm(range(SLEEP_TIME)):\n",
    "#     time.sleep(1)\n",
    "\n",
    "# SIA_methods.batch_fill(VIAL, DI, DI_port)\n",
    "# time_0 = time.time()\n",
    "\n",
    "for i in tqdm(range(N_REPETITION)):\n",
    "    sample_name = f\"{i+3}_elution_time_mitra_A_internal_IBU\"\n",
    "\n",
    "\n",
    "    Chemstation.method.execution_method_with_parameters(VIAL, METHOD, sample_name)\n",
    "    time.sleep(5)\n",
    "   \n",
    "    while Chemstation.system.status() != \"INJECTING\":\n",
    "        time.sleep(1)\n",
    "   \n",
    "    time_attempt = time.time() - time_0\n",
    "    save_time_attempt(sample_name, time_attempt, filename)  # Uložení času do souboru\n",
    "    \n",
    "    while Chemstation.system.get_remaining_analysis_time() > 1.5:\n",
    "        time.sleep(1)\n",
    "    \n",
    "    SIA_methods.homogenize_sample(VIAL, 3500, 30, flush_needle=20)\n",
    "    \n",
    "    while Chemstation.system.status() != \"PRERUN\":\n",
    "        time.sleep(2)"
   ]
  },
  {
   "cell_type": "code",
   "execution_count": 44,
   "metadata": {},
   "outputs": [],
   "source": [
    "while Chemstation.system.get_remaining_analysis_time() > 1.5:\n",
    "    time.sleep(1)\n",
    "\n",
    "SIA_methods.homogenize_sample(VIAL, 3500, 30, flush_needle=20)"
   ]
  },
  {
   "cell_type": "code",
   "execution_count": 43,
   "metadata": {},
   "outputs": [],
   "source": [
    "CavroX1.volume_counter = 0"
   ]
  },
  {
   "cell_type": "code",
   "execution_count": 31,
   "metadata": {},
   "outputs": [],
   "source": [
    "import time\n",
    "from datetime import datetime\n",
    "\n",
    "def save_time_attempt(sample_name, time_attempt, filename):\n",
    "    \"\"\"Uloží čas pokusu do textového souboru\"\"\"\n",
    "    timestamp = datetime.now().strftime(\"%Y-%m-%d %H:%M:%S\")\n",
    "    with open(filename, 'a', encoding='utf-8') as f:\n",
    "        f.write(f\"{timestamp}\\t{sample_name}\\t{time_attempt:.2f}\\n\")\n",
    "    print(f\"{timestamp}\\t{sample_name}\\t{time_attempt:.2f}\\n\")\n",
    "\n",
    "VIAL = 25\n",
    "METHOD = \"NHL3_MD_B\"\n",
    "sample_name = f\"capitainer_30_wait_homogenization_A\"\n",
    "\n",
    "MEOH = 400\n",
    "MeOH_port = 5\n",
    "\n",
    "DI = 100\n",
    "DI_port = 3\n",
    "\n",
    "SLEEP_TIME = 900\n",
    "WAIT_TIME = 1600\n",
    "\n",
    "filename = \"test.txt\"\n",
    "\n",
    "Chemstation.validation.validate_method_name(METHOD)"
   ]
  },
  {
   "cell_type": "code",
   "execution_count": 36,
   "metadata": {},
   "outputs": [],
   "source": [
    "SIA_methods.homogenize_sample(50, 2000, 5, 20)"
   ]
  },
  {
   "cell_type": "code",
   "execution_count": 37,
   "metadata": {},
   "outputs": [
    {
     "data": {
      "application/vnd.jupyter.widget-view+json": {
       "model_id": "7f6332c0c8d64693bc3e509a9c5b9421",
       "version_major": 2,
       "version_minor": 0
      },
      "text/plain": [
       "  0%|          | 0/900 [00:00<?, ?it/s]"
      ]
     },
     "metadata": {},
     "output_type": "display_data"
    },
    {
     "data": {
      "application/vnd.jupyter.widget-view+json": {
       "model_id": "945a46ee8dd34a9a8644ba2ac884d7de",
       "version_major": 2,
       "version_minor": 0
      },
      "text/plain": [
       "  0%|          | 0/1600 [00:00<?, ?it/s]"
      ]
     },
     "metadata": {},
     "output_type": "display_data"
    }
   ],
   "source": [
    "SIA_methods.batch_fill(VIAL, MEOH, MeOH_port)\n",
    "\n",
    "for _ in tqdm(range(SLEEP_TIME)):\n",
    "    time.sleep(1)\n",
    "\n",
    "SIA_methods.batch_fill(VIAL, DI, DI_port, unload=False)\n",
    "time_0 = time.time()\n",
    "\n",
    "SIA_methods.homogenize_sample(VIAL, 3500, 30)\n",
    "\n",
    "for _ in tqdm(range(WAIT_TIME)):\n",
    "    time.sleep(1)\n",
    "\n",
    "SIA_methods.homogenize_sample(VIAL, 3500, 30, flush_needle=20)\n",
    "\n",
    "# Chemstation.method.execution_method_with_parameters(VIAL, METHOD, sample_name)\n",
    "# time.sleep(5)\n",
    "\n",
    "# while Chemstation.system.status() != \"INJECTING\":\n",
    "#     time.sleep(1)\n",
    "\n",
    "# time_attempt = time.time() - time_0\n",
    "# save_time_attempt(sample_name, time_attempt, filename)"
   ]
  },
  {
   "cell_type": "code",
   "execution_count": 15,
   "metadata": {},
   "outputs": [],
   "source": [
    "wait = None\n",
    "\n",
    "if wait:\n",
    "    print(wait)\n",
    "    print(\"haha\")"
   ]
  },
  {
   "cell_type": "code",
   "execution_count": 23,
   "metadata": {},
   "outputs": [
    {
     "data": {
      "text/plain": [
       "{1: True,\n",
       " 2: True,\n",
       " 3: False,\n",
       " 4: False,\n",
       " 5: True,\n",
       " 6: True,\n",
       " 7: True,\n",
       " 8: True,\n",
       " 9: True,\n",
       " 10: True,\n",
       " 11: False,\n",
       " 12: False,\n",
       " 13: False,\n",
       " 14: False,\n",
       " 15: False,\n",
       " 16: False,\n",
       " 17: False,\n",
       " 18: False,\n",
       " 19: False,\n",
       " 20: True,\n",
       " 21: True,\n",
       " 22: True,\n",
       " 23: True,\n",
       " 24: False,\n",
       " 25: False,\n",
       " 26: False,\n",
       " 27: False,\n",
       " 28: False,\n",
       " 29: False,\n",
       " 30: False,\n",
       " 31: False,\n",
       " 32: False,\n",
       " 33: False,\n",
       " 34: False,\n",
       " 35: False,\n",
       " 36: False,\n",
       " 37: False,\n",
       " 38: False,\n",
       " 39: False,\n",
       " 40: False,\n",
       " 41: False,\n",
       " 42: False,\n",
       " 43: False,\n",
       " 44: False,\n",
       " 45: True,\n",
       " 46: True,\n",
       " 47: False,\n",
       " 48: True}"
      ]
     },
     "execution_count": 23,
     "metadata": {},
     "output_type": "execute_result"
    }
   ],
   "source": [
    "Chemstation.validation.get_vialtable()"
   ]
  },
  {
   "cell_type": "code",
   "execution_count": 46,
   "metadata": {},
   "outputs": [],
   "source": [
    "SIA_methods.batch_fill(50, 50, MeOH_port, flush_needle=30)"
   ]
  },
  {
   "cell_type": "code",
   "execution_count": 29,
   "metadata": {},
   "outputs": [],
   "source": [
    "SIA_methods.batch_fill(35, 250, MeOH_port)\n",
    "# #time.sleep(300)\n",
    "# SIA_methods.batch_fill(31, 100, DI_port, unload=False)"
   ]
  },
  {
   "cell_type": "code",
   "execution_count": 30,
   "metadata": {},
   "outputs": [],
   "source": [
    "SIA_methods.homogenize_sample(31, 3000, 30, unload=False)"
   ]
  }
 ],
 "metadata": {
  "kernelspec": {
   "display_name": "Python 3.7.9 64-bit",
   "language": "python",
   "name": "python3"
  },
  "language_info": {
   "codemirror_mode": {
    "name": "ipython",
    "version": 3
   },
   "file_extension": ".py",
   "mimetype": "text/x-python",
   "name": "python",
   "nbconvert_exporter": "python",
   "pygments_lexer": "ipython3",
   "version": "3.7.9"
  },
  "orig_nbformat": 4,
  "vscode": {
   "interpreter": {
    "hash": "4878f26386c6e9cdba1e2a53b2ea880effa2ba7b2213b6f5508ed54717b055e1"
   }
  }
 },
 "nbformat": 4,
 "nbformat_minor": 2
}
