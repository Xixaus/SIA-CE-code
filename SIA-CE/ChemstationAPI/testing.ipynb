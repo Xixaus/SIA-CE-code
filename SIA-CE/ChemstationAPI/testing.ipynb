{
 "cells": [
  {
   "cell_type": "code",
   "execution_count": null,
   "metadata": {},
   "outputs": [],
   "source": [
    "macro \"C:\\Users\\hpst\\Desktop\\ChemstationAPI\\ChemstationAPI\\core\\ChemPyConnect.mac\"; Python_Run"
   ]
  },
  {
   "cell_type": "code",
   "execution_count": 1,
   "metadata": {},
   "outputs": [],
   "source": [
    "from ChemstationAPI import ChemstationAPI\n",
    "api = ChemstationAPI()"
   ]
  },
  {
   "cell_type": "code",
   "execution_count": null,
   "metadata": {},
   "outputs": [],
   "source": [
    "api.ce"
   ]
  },
  {
   "cell_type": "code",
   "execution_count": 10,
   "metadata": {},
   "outputs": [
    {
     "data": {
      "text/plain": [
       "WindowsPath('c:/Users/hpst/python/ChemstationAPI/controllers/temp/temp.xlsx')"
      ]
     },
     "execution_count": 10,
     "metadata": {},
     "output_type": "execute_result"
    }
   ],
   "source": [
    "api.config.get_temp_dir_path() / r\"temp.xlsx\""
   ]
  },
  {
   "cell_type": "code",
   "execution_count": 4,
   "metadata": {},
   "outputs": [
    {
     "name": "stdout",
     "output_type": "stream",
     "text": [
      "Sending command 2: response$ = _METHPATH$\n",
      "Received response 2: C:\\Chem32\\1\\Methods\\CE\\\n",
      "Sending command 3: macro c:\\Users\\hpst\\python\\ChemstationAPI\\controllers\\macros\\macros.mac; modify_and_run_method 40, testing, Flush.M, , \n",
      "Received response 3: None\n",
      "Sending command 4: response$ = VAL$(_MethodOn)\n",
      "Received response 4: 1\n"
     ]
    }
   ],
   "source": [
    "api.method.execution_method_with_parameters(40, \"Flush\", \"testing\")"
   ]
  },
  {
   "cell_type": "code",
   "execution_count": 2,
   "metadata": {},
   "outputs": [],
   "source": [
    "api.sequence.prepare_sequence_table(excel_file_path=\"samples_info.xlsx\", sequence_name=\"SIA_CP_Test\",\n",
    "                                    vial_column=\"Vial\", method_column=\"Method\", sample_info_column=\"Name\")"
   ]
  }
 ],
 "metadata": {
  "kernelspec": {
   "display_name": "Python 3.7.9 64-bit",
   "language": "python",
   "name": "python3"
  },
  "language_info": {
   "codemirror_mode": {
    "name": "ipython",
    "version": 3
   },
   "file_extension": ".py",
   "mimetype": "text/x-python",
   "name": "python",
   "nbconvert_exporter": "python",
   "pygments_lexer": "ipython3",
   "version": "3.7.9"
  },
  "orig_nbformat": 4,
  "vscode": {
   "interpreter": {
    "hash": "4878f26386c6e9cdba1e2a53b2ea880effa2ba7b2213b6f5508ed54717b055e1"
   }
  }
 },
 "nbformat": 4,
 "nbformat_minor": 2
}
